{
 "cells": [
  {
   "cell_type": "code",
   "execution_count": 1,
   "id": "30f2e65c-f032-44d4-9857-12ae02e8cf16",
   "metadata": {},
   "outputs": [],
   "source": [
    "import argparse\n",
    "import re\n",
    "import ipywidgets as widgets\n",
    "from IPython.display import display"
   ]
  },
  {
   "cell_type": "code",
   "execution_count": 2,
   "id": "42edabe2-5ae0-4c86-a3fd-1ef915fd2866",
   "metadata": {},
   "outputs": [],
   "source": [
    "def pace_to_str(pace: int) -> str:\n",
    "    mins = pace // 60\n",
    "    secs = pace % 60\n",
    "\n",
    "    return f\"{mins:2}:{secs:02}\"\n",
    "\n",
    "def pace_to_seconds(hours: int, minutes: int, seconds: int):\n",
    "    return seconds + minutes * 60 + hours * 60 * 60\n",
    "\n",
    "def calc_endurance_paces(\n",
    "    hi_pace: int, lo_pace: int, intervals: int, interval_pace_delta: int\n",
    "):\n",
    "    tmp = lo_pace\n",
    "    if lo_pace < hi_pace:\n",
    "        lo_pace = hi_pace\n",
    "        hi_pace = tmp\n",
    "    \n",
    "    interval_pace_span = (lo_pace - hi_pace) // intervals\n",
    "    print(f'pace span per interval: {interval_pace_span} secs')\n",
    "    print(f'pace delta: +/-{interval_pace_delta} secs')\n",
    "\n",
    "    for i in range(intervals - 1, -1, -1):\n",
    "        interval_pace = hi_pace + i * interval_pace_span\n",
    "        interval_pace_hi = interval_pace - interval_pace_delta\n",
    "        interval_pace_lo = interval_pace + interval_pace_delta\n",
    "        print(\n",
    "            f\"interval {intervals - i:2}: pace {pace_to_str(interval_pace):2} with range [{pace_to_str(interval_pace_hi):02}, {pace_to_str(interval_pace_lo):02} ]\"\n",
    "        )"
   ]
  },
  {
   "cell_type": "code",
   "execution_count": 3,
   "id": "5ba7d9d4-de11-44cf-94f9-4d41f6d44dcd",
   "metadata": {},
   "outputs": [],
   "source": [
    "def get_pace_ui(hours=0, minutes=7, seconds=30):\n",
    "    return {\n",
    "        \"hours\":\n",
    "        widgets.BoundedIntText(\n",
    "        value=hours,\n",
    "        min=0,\n",
    "        step=1,\n",
    "        description='Hours:',\n",
    "        disabled=False),\n",
    "    \"minutes\": widgets.BoundedIntText(\n",
    "        value=minutes,\n",
    "        min=0,\n",
    "        max=59,\n",
    "        step=1,\n",
    "        description='Minutes:',\n",
    "        disabled=False), \n",
    "    \"seconds\": widgets.BoundedIntText(\n",
    "        value=seconds,\n",
    "        min=0,\n",
    "        max=59,\n",
    "        step=1,\n",
    "        description='Seconds:',\n",
    "        disabled=False)\n",
    "    }\n",
    "\n",
    "pace1_ui = get_pace_ui(minutes=8, seconds=30)\n",
    "pace2_ui = get_pace_ui(minutes=9, seconds=30)\n",
    "\n",
    "intervals_ui = widgets.BoundedIntText(\n",
    "    value=10,\n",
    "    min=1,\n",
    "    step=1,\n",
    "    description='Intervals:',\n",
    "    disabled=False\n",
    ")\n",
    "\n",
    "interval_delta_ui = widgets.BoundedIntText(\n",
    "    value=10,\n",
    "    min=0,\n",
    "    step=1,\n",
    "    description='Interval Delta +/-:',\n",
    "    disabled=False\n",
    ")"
   ]
  },
  {
   "cell_type": "markdown",
   "id": "ede61852-ae78-405d-a5f7-8581778e5feb",
   "metadata": {},
   "source": [
    "## Calculate Paces for Endurance Run"
   ]
  },
  {
   "cell_type": "markdown",
   "id": "fb5ca401-212a-41bb-9e2e-2ecca571e27c",
   "metadata": {},
   "source": [
    "### Enter first pace:"
   ]
  },
  {
   "cell_type": "code",
   "execution_count": 4,
   "id": "dc47c65a-9b24-4864-b19f-220ffb7c794c",
   "metadata": {},
   "outputs": [
    {
     "data": {
      "application/vnd.jupyter.widget-view+json": {
       "model_id": "cb71b3de08274d72a95aace134187c43",
       "version_major": 2,
       "version_minor": 0
      },
      "text/plain": [
       "BoundedIntText(value=0, description='Hours:')"
      ]
     },
     "metadata": {},
     "output_type": "display_data"
    },
    {
     "data": {
      "application/vnd.jupyter.widget-view+json": {
       "model_id": "c4712bbfd42b448787b56ee81b0805c5",
       "version_major": 2,
       "version_minor": 0
      },
      "text/plain": [
       "BoundedIntText(value=8, description='Minutes:', max=59)"
      ]
     },
     "metadata": {},
     "output_type": "display_data"
    },
    {
     "data": {
      "application/vnd.jupyter.widget-view+json": {
       "model_id": "6d637f71127f4e539437b1e009766832",
       "version_major": 2,
       "version_minor": 0
      },
      "text/plain": [
       "BoundedIntText(value=30, description='Seconds:', max=59)"
      ]
     },
     "metadata": {},
     "output_type": "display_data"
    }
   ],
   "source": [
    "display(*(pace1_ui.values()))"
   ]
  },
  {
   "cell_type": "markdown",
   "id": "0890ad24-5c2d-43ea-81f7-022d3b329015",
   "metadata": {},
   "source": [
    "### Enter second pace:"
   ]
  },
  {
   "cell_type": "code",
   "execution_count": 5,
   "id": "f37210f9-663d-46b4-8035-fd1c28bbb3ca",
   "metadata": {},
   "outputs": [
    {
     "data": {
      "application/vnd.jupyter.widget-view+json": {
       "model_id": "48d2e3dd5e5e46b8951cfddd0f6e3bce",
       "version_major": 2,
       "version_minor": 0
      },
      "text/plain": [
       "BoundedIntText(value=0, description='Hours:')"
      ]
     },
     "metadata": {},
     "output_type": "display_data"
    },
    {
     "data": {
      "application/vnd.jupyter.widget-view+json": {
       "model_id": "16d150077a294c9098886cbfd89d019c",
       "version_major": 2,
       "version_minor": 0
      },
      "text/plain": [
       "BoundedIntText(value=9, description='Minutes:', max=59)"
      ]
     },
     "metadata": {},
     "output_type": "display_data"
    },
    {
     "data": {
      "application/vnd.jupyter.widget-view+json": {
       "model_id": "cfbc6d5c80164030b8192db80ef06d32",
       "version_major": 2,
       "version_minor": 0
      },
      "text/plain": [
       "BoundedIntText(value=30, description='Seconds:', max=59)"
      ]
     },
     "metadata": {},
     "output_type": "display_data"
    }
   ],
   "source": [
    "display(*(pace2_ui.values()))"
   ]
  },
  {
   "cell_type": "markdown",
   "id": "8c49a724-22ff-42b5-903b-59641abb34fe",
   "metadata": {},
   "source": [
    "### Enter interval information:"
   ]
  },
  {
   "cell_type": "code",
   "execution_count": 6,
   "id": "25bc93ce-f3d8-450e-a318-cbe31c31f1cb",
   "metadata": {},
   "outputs": [
    {
     "data": {
      "application/vnd.jupyter.widget-view+json": {
       "model_id": "c6e9d05b9fe841169a2e06f0478d74a8",
       "version_major": 2,
       "version_minor": 0
      },
      "text/plain": [
       "BoundedIntText(value=10, description='Intervals:', min=1)"
      ]
     },
     "metadata": {},
     "output_type": "display_data"
    },
    {
     "data": {
      "application/vnd.jupyter.widget-view+json": {
       "model_id": "2de51aa54244462b847f71eee9c59451",
       "version_major": 2,
       "version_minor": 0
      },
      "text/plain": [
       "BoundedIntText(value=10, description='Interval Delta +/-:')"
      ]
     },
     "metadata": {},
     "output_type": "display_data"
    }
   ],
   "source": [
    "display(intervals_ui, interval_delta_ui)"
   ]
  },
  {
   "cell_type": "markdown",
   "id": "7bd691c5-0b18-4555-b0f4-dd409e4fadb2",
   "metadata": {},
   "source": [
    "### Endurance run breakdown"
   ]
  },
  {
   "cell_type": "code",
   "execution_count": 8,
   "id": "fc2ffa85-cbe4-4497-ae88-f32a7e9dbabd",
   "metadata": {},
   "outputs": [
    {
     "name": "stdout",
     "output_type": "stream",
     "text": [
      "pace span per interval: 5 secs\n",
      "pace delta: +/-10 secs\n",
      "interval  1: pace  9:17 with range [ 9:07,  9:27 ]\n",
      "interval  2: pace  9:12 with range [ 9:02,  9:22 ]\n",
      "interval  3: pace  9:07 with range [ 8:57,  9:17 ]\n",
      "interval  4: pace  9:02 with range [ 8:52,  9:12 ]\n",
      "interval  5: pace  8:57 with range [ 8:47,  9:07 ]\n",
      "interval  6: pace  8:52 with range [ 8:42,  9:02 ]\n",
      "interval  7: pace  8:47 with range [ 8:37,  8:57 ]\n",
      "interval  8: pace  8:42 with range [ 8:32,  8:52 ]\n",
      "interval  9: pace  8:37 with range [ 8:27,  8:47 ]\n",
      "interval 10: pace  8:32 with range [ 8:22,  8:42 ]\n",
      "interval 11: pace  8:27 with range [ 8:17,  8:37 ]\n",
      "interval 12: pace  8:22 with range [ 8:12,  8:32 ]\n"
     ]
    }
   ],
   "source": [
    "pace1 = pace_to_seconds(*(v.value for v in pace1_ui.values()))\n",
    "pace2 = pace_to_seconds(*(v.value for v in pace2_ui.values()))\n",
    "    \n",
    "calc_endurance_paces(pace1, pace2, intervals_ui.value, interval_delta_ui.value)"
   ]
  },
  {
   "cell_type": "code",
   "execution_count": null,
   "id": "4b14e5e6-f164-4508-8a13-5b7a6bcd5359",
   "metadata": {},
   "outputs": [],
   "source": []
  },
  {
   "cell_type": "code",
   "execution_count": null,
   "id": "64da3ef5-e8ff-456c-9cbd-8e61238c41ce",
   "metadata": {},
   "outputs": [],
   "source": []
  },
  {
   "cell_type": "code",
   "execution_count": null,
   "id": "69053911-f856-4708-b5e0-280530510d76",
   "metadata": {},
   "outputs": [],
   "source": []
  },
  {
   "cell_type": "code",
   "execution_count": null,
   "id": "42e9e056-032d-43e5-8d9c-a6aba171132c",
   "metadata": {},
   "outputs": [],
   "source": []
  }
 ],
 "metadata": {
  "jupytext": {
   "cell_metadata_filter": "-all",
   "executable": "/usr/bin/python3",
   "main_language": "python",
   "notebook_metadata_filter": "-all"
  },
  "kernelspec": {
   "display_name": "Python 3 (ipykernel)",
   "language": "python",
   "name": "python3"
  },
  "language_info": {
   "codemirror_mode": {
    "name": "ipython",
    "version": 3
   },
   "file_extension": ".py",
   "mimetype": "text/x-python",
   "name": "python",
   "nbconvert_exporter": "python",
   "pygments_lexer": "ipython3",
   "version": "3.10.12"
  }
 },
 "nbformat": 4,
 "nbformat_minor": 5
}
