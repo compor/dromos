{
 "cells": [
  {
   "cell_type": "code",
   "execution_count": 177,
   "id": "30f2e65c-f032-44d4-9857-12ae02e8cf16",
   "metadata": {
    "jupyter": {
     "source_hidden": true
    }
   },
   "outputs": [],
   "source": [
    "import argparse\n",
    "import re\n",
    "import ipywidgets as widgets\n",
    "from IPython.display import display"
   ]
  },
  {
   "cell_type": "code",
   "execution_count": 178,
   "id": "42edabe2-5ae0-4c86-a3fd-1ef915fd2866",
   "metadata": {
    "jupyter": {
     "source_hidden": true
    }
   },
   "outputs": [],
   "source": [
    "def pace_to_str(pace: int) -> str:\n",
    "    mins = pace // 60\n",
    "    secs = pace % 60\n",
    "\n",
    "    return f\"{mins:2}:{secs:02}\"\n",
    "\n",
    "def pace_to_seconds(hours: int, minutes: int, seconds: int):\n",
    "    return seconds + minutes * 60 + hours * 60 * 60\n",
    "\n",
    "def calc_endurance_paces(\n",
    "    hi_pace: int, lo_pace: int, intervals: int, interval_pace_delta: int\n",
    "):\n",
    "    tmp = lo_pace\n",
    "    if lo_pace < hi_pace:\n",
    "        lo_pace = hi_pace\n",
    "        hi_pace = tmp\n",
    "    \n",
    "    interval_pace_span = (lo_pace - hi_pace) // intervals\n",
    "    print(f'pace span per interval: {interval_pace_span} secs')\n",
    "    print(f'pace delta: +/-{interval_pace_delta} secs')\n",
    "\n",
    "    for i in range(intervals - 1, -1, -1):\n",
    "        interval_pace = hi_pace + i * interval_pace_span\n",
    "        interval_pace_hi = interval_pace - interval_pace_delta\n",
    "        interval_pace_lo = interval_pace + interval_pace_delta\n",
    "        print(\n",
    "            f\"interval {intervals - i:2}: pace {pace_to_str(interval_pace):2} with range [{pace_to_str(interval_pace_hi):02}, {pace_to_str(interval_pace_lo):02} ]\"\n",
    "        )"
   ]
  },
  {
   "cell_type": "code",
   "execution_count": 179,
   "id": "5ba7d9d4-de11-44cf-94f9-4d41f6d44dcd",
   "metadata": {
    "jupyter": {
     "source_hidden": true
    }
   },
   "outputs": [],
   "source": [
    "def get_pace_ui(hours=0, minutes=7, seconds=30):\n",
    "    return {\n",
    "        \"hours\":\n",
    "        widgets.BoundedIntText(\n",
    "        value=hours,\n",
    "        min=0,\n",
    "        step=1,\n",
    "        description='Hours:',\n",
    "        disabled=False),\n",
    "    \"minutes\": widgets.BoundedIntText(\n",
    "        value=minutes,\n",
    "        min=0,\n",
    "        max=59,\n",
    "        step=1,\n",
    "        description='Minutes:',\n",
    "        disabled=False), \n",
    "    \"seconds\": widgets.BoundedIntText(\n",
    "        value=seconds,\n",
    "        min=0,\n",
    "        max=59,\n",
    "        step=1,\n",
    "        description='Seconds:',\n",
    "        disabled=False)\n",
    "    }\n",
    "\n",
    "pace1_ui = get_pace_ui(minutes=8, seconds=30)\n",
    "pace2_ui = get_pace_ui(minutes=9, seconds=30)\n",
    "\n",
    "intervals_ui = widgets.BoundedIntText(\n",
    "    value=10,\n",
    "    min=1,\n",
    "    step=1,\n",
    "    description='Intervals:',\n",
    "    disabled=False\n",
    ")\n",
    "\n",
    "interval_delta_ui = widgets.BoundedIntText(\n",
    "    value=10,\n",
    "    min=0,\n",
    "    step=1,\n",
    "    description='Interval Delta +/-:',\n",
    "    disabled=False\n",
    ")"
   ]
  },
  {
   "cell_type": "markdown",
   "id": "ede61852-ae78-405d-a5f7-8581778e5feb",
   "metadata": {},
   "source": [
    "## Calculate Paces for Endurance Run"
   ]
  },
  {
   "cell_type": "markdown",
   "id": "fb5ca401-212a-41bb-9e2e-2ecca571e27c",
   "metadata": {},
   "source": [
    "### Enter first pace:"
   ]
  },
  {
   "cell_type": "code",
   "execution_count": 180,
   "id": "dc47c65a-9b24-4864-b19f-220ffb7c794c",
   "metadata": {
    "jupyter": {
     "source_hidden": true
    }
   },
   "outputs": [
    {
     "data": {
      "application/vnd.jupyter.widget-view+json": {
       "model_id": "44792e9e33ad4f4bb2cfe0efdc9fdd3c",
       "version_major": 2,
       "version_minor": 0
      },
      "text/plain": [
       "BoundedIntText(value=0, description='Hours:')"
      ]
     },
     "metadata": {},
     "output_type": "display_data"
    },
    {
     "data": {
      "application/vnd.jupyter.widget-view+json": {
       "model_id": "d9ff4af49ca244cf929719790f1670e1",
       "version_major": 2,
       "version_minor": 0
      },
      "text/plain": [
       "BoundedIntText(value=8, description='Minutes:', max=59)"
      ]
     },
     "metadata": {},
     "output_type": "display_data"
    },
    {
     "data": {
      "application/vnd.jupyter.widget-view+json": {
       "model_id": "f2b765189e0a4c8fab664103552ac36f",
       "version_major": 2,
       "version_minor": 0
      },
      "text/plain": [
       "BoundedIntText(value=30, description='Seconds:', max=59)"
      ]
     },
     "metadata": {},
     "output_type": "display_data"
    }
   ],
   "source": [
    "display(*(bottom_pace_ui.values()))"
   ]
  },
  {
   "cell_type": "markdown",
   "id": "0890ad24-5c2d-43ea-81f7-022d3b329015",
   "metadata": {},
   "source": [
    "### Enter second pace:"
   ]
  },
  {
   "cell_type": "code",
   "execution_count": 181,
   "id": "f37210f9-663d-46b4-8035-fd1c28bbb3ca",
   "metadata": {
    "jupyter": {
     "source_hidden": true
    }
   },
   "outputs": [
    {
     "data": {
      "application/vnd.jupyter.widget-view+json": {
       "model_id": "e3d3b6e399dc44c2b1119ba177bfb8a4",
       "version_major": 2,
       "version_minor": 0
      },
      "text/plain": [
       "BoundedIntText(value=0, description='Hours:')"
      ]
     },
     "metadata": {},
     "output_type": "display_data"
    },
    {
     "data": {
      "application/vnd.jupyter.widget-view+json": {
       "model_id": "2590b1e25f5741afb23e727ed327b0f1",
       "version_major": 2,
       "version_minor": 0
      },
      "text/plain": [
       "BoundedIntText(value=9, description='Minutes:', max=59)"
      ]
     },
     "metadata": {},
     "output_type": "display_data"
    },
    {
     "data": {
      "application/vnd.jupyter.widget-view+json": {
       "model_id": "23392190ff4141b0b12b4b5d913b983d",
       "version_major": 2,
       "version_minor": 0
      },
      "text/plain": [
       "BoundedIntText(value=35, description='Seconds:', max=59)"
      ]
     },
     "metadata": {},
     "output_type": "display_data"
    }
   ],
   "source": [
    "display(*(top_pace_ui.values()))"
   ]
  },
  {
   "cell_type": "markdown",
   "id": "8c49a724-22ff-42b5-903b-59641abb34fe",
   "metadata": {},
   "source": [
    "### Enter interval information:"
   ]
  },
  {
   "cell_type": "code",
   "execution_count": 182,
   "id": "25bc93ce-f3d8-450e-a318-cbe31c31f1cb",
   "metadata": {
    "jupyter": {
     "source_hidden": true
    }
   },
   "outputs": [
    {
     "data": {
      "application/vnd.jupyter.widget-view+json": {
       "model_id": "52a70496ec8948b79b972bbe960f3eca",
       "version_major": 2,
       "version_minor": 0
      },
      "text/plain": [
       "BoundedIntText(value=10, description='Intervals:', min=1)"
      ]
     },
     "metadata": {},
     "output_type": "display_data"
    },
    {
     "data": {
      "application/vnd.jupyter.widget-view+json": {
       "model_id": "501c0b34f10c4bf48416a2d800bc3cfe",
       "version_major": 2,
       "version_minor": 0
      },
      "text/plain": [
       "BoundedIntText(value=10, description='Interval Delta +/-:')"
      ]
     },
     "metadata": {},
     "output_type": "display_data"
    }
   ],
   "source": [
    "display(intervals_ui, interval_delta_ui)"
   ]
  },
  {
   "cell_type": "markdown",
   "id": "7bd691c5-0b18-4555-b0f4-dd409e4fadb2",
   "metadata": {},
   "source": [
    "### Endurance run breakdown"
   ]
  },
  {
   "cell_type": "code",
   "execution_count": 183,
   "id": "fc2ffa85-cbe4-4497-ae88-f32a7e9dbabd",
   "metadata": {
    "jupyter": {
     "source_hidden": true
    }
   },
   "outputs": [
    {
     "name": "stdout",
     "output_type": "stream",
     "text": [
      "pace span per interval: 6 secs\n",
      "pace delta: +/-10 secs\n",
      "interval  1: pace  9:24 with range [ 9:14,  9:34 ]\n",
      "interval  2: pace  9:18 with range [ 9:08,  9:28 ]\n",
      "interval  3: pace  9:12 with range [ 9:02,  9:22 ]\n",
      "interval  4: pace  9:06 with range [ 8:56,  9:16 ]\n",
      "interval  5: pace  9:00 with range [ 8:50,  9:10 ]\n",
      "interval  6: pace  8:54 with range [ 8:44,  9:04 ]\n",
      "interval  7: pace  8:48 with range [ 8:38,  8:58 ]\n",
      "interval  8: pace  8:42 with range [ 8:32,  8:52 ]\n",
      "interval  9: pace  8:36 with range [ 8:26,  8:46 ]\n",
      "interval 10: pace  8:30 with range [ 8:20,  8:40 ]\n"
     ]
    }
   ],
   "source": [
    "pace1 = pace_to_seconds(*(v.value for v in pace1_ui.values()))\n",
    "pace2 = pace_to_seconds(*(v.value for v in pace2_ui.values()))\n",
    "    \n",
    "calc_endurance_paces(pace1, pace2, intervals_ui.value, interval_delta_ui.value)"
   ]
  }
 ],
 "metadata": {
  "jupytext": {
   "cell_metadata_filter": "-all",
   "executable": "/usr/bin/python3",
   "main_language": "python",
   "notebook_metadata_filter": "-all"
  },
  "kernelspec": {
   "display_name": "Python 3 (ipykernel)",
   "language": "python",
   "name": "python3"
  },
  "language_info": {
   "codemirror_mode": {
    "name": "ipython",
    "version": 3
   },
   "file_extension": ".py",
   "mimetype": "text/x-python",
   "name": "python",
   "nbconvert_exporter": "python",
   "pygments_lexer": "ipython3",
   "version": "3.10.12"
  }
 },
 "nbformat": 4,
 "nbformat_minor": 5
}
